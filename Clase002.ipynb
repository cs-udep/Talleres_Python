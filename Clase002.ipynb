{
  "nbformat": 4,
  "nbformat_minor": 0,
  "metadata": {
    "colab": {
      "provenance": []
    },
    "kernelspec": {
      "name": "python3",
      "display_name": "Python 3"
    },
    "language_info": {
      "name": "python"
    }
  },
  "cells": [
    {
      "cell_type": "markdown",
      "source": [
        "# Listas"
      ],
      "metadata": {
        "id": "r57ROEMkwpBo"
      }
    },
    {
      "cell_type": "code",
      "execution_count": null,
      "metadata": {
        "id": "uTfAxtJ1vvpx",
        "colab": {
          "base_uri": "https://localhost:8080/"
        },
        "outputId": "67371c54-26a0-433e-dcaf-43d1d792fad3"
      },
      "outputs": [
        {
          "output_type": "stream",
          "name": "stdout",
          "text": [
            "['Vaca', 'Perro', 'Gato']\n"
          ]
        }
      ],
      "source": [
        "miLista = [\"Vaca\",\"Perro\",\"Gato\"]\n",
        "print(miLista)"
      ]
    },
    {
      "cell_type": "code",
      "source": [
        "numeros = [123,\"Alvaro\",\"ComputerSociety\"]\n",
        "print(numeros)"
      ],
      "metadata": {
        "colab": {
          "base_uri": "https://localhost:8080/"
        },
        "id": "1VPhHNVmp7rt",
        "outputId": "66f58e1f-302a-45a0-e699-19730516e70a"
      },
      "execution_count": null,
      "outputs": [
        {
          "output_type": "stream",
          "name": "stdout",
          "text": [
            "[123, 'Alvaro', 'ComputerSociety']\n"
          ]
        }
      ]
    },
    {
      "cell_type": "code",
      "source": [
        "cadenas = [[\"C\"],[\"B\"],[\"A\"]]\n",
        "print(cadenas)"
      ],
      "metadata": {
        "colab": {
          "base_uri": "https://localhost:8080/"
        },
        "id": "-mdgKn1NrL91",
        "outputId": "50d5c6e3-61ea-4241-9dd4-a4bed862ac10"
      },
      "execution_count": null,
      "outputs": [
        {
          "output_type": "stream",
          "name": "stdout",
          "text": [
            "[['C'], ['B'], ['A']]\n"
          ]
        }
      ]
    },
    {
      "cell_type": "code",
      "source": [
        "abcd = [\"A\",\"B\",\"C\",\"D\"]\n",
        "print(abcd[0:2])\n",
        "print(abcd[:2])\n",
        "print(abcd[2:])\n",
        "print(abcd[:-1])\n",
        "print(abcd[::-1])"
      ],
      "metadata": {
        "colab": {
          "base_uri": "https://localhost:8080/"
        },
        "id": "7nSg5NoBsOcZ",
        "outputId": "af77e487-feb7-468e-e01d-637a41a47626"
      },
      "execution_count": null,
      "outputs": [
        {
          "output_type": "stream",
          "name": "stdout",
          "text": [
            "['A', 'B']\n",
            "['A', 'B']\n",
            "['C', 'D']\n",
            "['A', 'B', 'C']\n",
            "['D', 'C', 'B', 'A']\n"
          ]
        }
      ]
    },
    {
      "cell_type": "markdown",
      "source": [
        "# Diccionarios"
      ],
      "metadata": {
        "id": "F2Z8P67nfAAv"
      }
    },
    {
      "cell_type": "code",
      "source": [
        "obra = {\"nombre\":\"Robin Hood\", 1:450, \"pagina\":\"150\",\"lista\":abcd}\n",
        "print(obra)"
      ],
      "metadata": {
        "id": "aTdqQVU-fCGO",
        "colab": {
          "base_uri": "https://localhost:8080/"
        },
        "outputId": "ee994f7e-f5af-4fc8-881e-2a3488af84d5"
      },
      "execution_count": null,
      "outputs": [
        {
          "output_type": "stream",
          "name": "stdout",
          "text": [
            "{'nombre': 'Robin Hood', 1: 450, 'pagina': '150', 'lista': ['A', 'B', 'C', 'D']}\n"
          ]
        }
      ]
    },
    {
      "cell_type": "code",
      "source": [
        "print(obra[\"nombre\"])"
      ],
      "metadata": {
        "colab": {
          "base_uri": "https://localhost:8080/"
        },
        "id": "pvtGkkNru4nA",
        "outputId": "bd806556-e223-4948-e2f9-c7aee7d4dc2c"
      },
      "execution_count": null,
      "outputs": [
        {
          "output_type": "stream",
          "name": "stdout",
          "text": [
            "Robin Hood\n"
          ]
        }
      ]
    },
    {
      "cell_type": "code",
      "source": [
        "print(obra[\"pagina\"])\n",
        "print(obra[:2])"
      ],
      "metadata": {
        "colab": {
          "base_uri": "https://localhost:8080/",
          "height": 214
        },
        "id": "U851__RevIl4",
        "outputId": "786eb42a-c67a-4858-b49f-1548b0134abc"
      },
      "execution_count": null,
      "outputs": [
        {
          "output_type": "stream",
          "name": "stdout",
          "text": [
            "150\n"
          ]
        },
        {
          "output_type": "error",
          "ename": "TypeError",
          "evalue": "ignored",
          "traceback": [
            "\u001b[0;31m---------------------------------------------------------------------------\u001b[0m",
            "\u001b[0;31mTypeError\u001b[0m                                 Traceback (most recent call last)",
            "\u001b[0;32m<ipython-input-15-9de0b91dad17>\u001b[0m in \u001b[0;36m<cell line: 2>\u001b[0;34m()\u001b[0m\n\u001b[1;32m      1\u001b[0m \u001b[0mprint\u001b[0m\u001b[0;34m(\u001b[0m\u001b[0mobra\u001b[0m\u001b[0;34m[\u001b[0m\u001b[0;34m\"pagina\"\u001b[0m\u001b[0;34m]\u001b[0m\u001b[0;34m)\u001b[0m\u001b[0;34m\u001b[0m\u001b[0;34m\u001b[0m\u001b[0m\n\u001b[0;32m----> 2\u001b[0;31m \u001b[0mprint\u001b[0m\u001b[0;34m(\u001b[0m\u001b[0mobra\u001b[0m\u001b[0;34m[\u001b[0m\u001b[0;34m:\u001b[0m\u001b[0;36m2\u001b[0m\u001b[0;34m]\u001b[0m\u001b[0;34m)\u001b[0m\u001b[0;34m\u001b[0m\u001b[0;34m\u001b[0m\u001b[0m\n\u001b[0m",
            "\u001b[0;31mTypeError\u001b[0m: unhashable type: 'slice'"
          ]
        }
      ]
    },
    {
      "cell_type": "markdown",
      "source": [
        "## FOR"
      ],
      "metadata": {
        "id": "FGHECGBlfCOl"
      }
    },
    {
      "cell_type": "code",
      "source": [
        "for i in range(1,20,2):\n",
        "  if i % 3 == 0:\n",
        "    print(i)"
      ],
      "metadata": {
        "id": "L4dPXlGVfGUX",
        "colab": {
          "base_uri": "https://localhost:8080/"
        },
        "outputId": "244de095-bd29-431d-e043-9397600a69e5"
      },
      "execution_count": null,
      "outputs": [
        {
          "output_type": "stream",
          "name": "stdout",
          "text": [
            "3\n",
            "9\n",
            "15\n"
          ]
        }
      ]
    },
    {
      "cell_type": "code",
      "source": [
        "lista = [[\"A\",\"B\"],[\"C\",\"D\"],[\"E\",\"F\"]]\n",
        "print(lista)\n",
        "for i in range(len(lista)):\n",
        "  for j in range(len(lista[i])):\n",
        "    print(lista[i][j])"
      ],
      "metadata": {
        "colab": {
          "base_uri": "https://localhost:8080/"
        },
        "id": "w-JPgM2WzSAL",
        "outputId": "bc9b1726-1f77-4558-eb5f-36f8040e1d56"
      },
      "execution_count": null,
      "outputs": [
        {
          "output_type": "stream",
          "name": "stdout",
          "text": [
            "[['A', 'B'], ['C', 'D'], ['E', 'F']]\n",
            "A\n",
            "B\n",
            "C\n",
            "D\n",
            "E\n",
            "F\n"
          ]
        }
      ]
    },
    {
      "cell_type": "code",
      "source": [
        "diccionario = {\"nombre\":\"Robin Hood\",\"apellido\":\"Galvez\"}\n",
        "for i in diccionario.values():\n",
        "  print(i)"
      ],
      "metadata": {
        "colab": {
          "base_uri": "https://localhost:8080/"
        },
        "id": "q3eVYtWM0ZE7",
        "outputId": "181843d3-3506-404a-dd1a-7562602d1f0a"
      },
      "execution_count": null,
      "outputs": [
        {
          "output_type": "stream",
          "name": "stdout",
          "text": [
            "Robin Hood\n",
            "Galvez\n"
          ]
        }
      ]
    },
    {
      "cell_type": "code",
      "source": [
        "suma = 0\n",
        "for i in range(21):\n",
        "  suma+=i**2\n",
        "  suma = suma + i**2\n",
        "print(suma)"
      ],
      "metadata": {
        "colab": {
          "base_uri": "https://localhost:8080/"
        },
        "id": "YdJTXtWV1QR4",
        "outputId": "03a09f09-d08a-4ef3-fdff-a742f73226e7"
      },
      "execution_count": null,
      "outputs": [
        {
          "output_type": "stream",
          "name": "stdout",
          "text": [
            "5740\n"
          ]
        }
      ]
    },
    {
      "cell_type": "markdown",
      "source": [
        "## WHILE"
      ],
      "metadata": {
        "id": "rNAtIT3-fHCm"
      }
    },
    {
      "cell_type": "code",
      "source": [
        "a = 0\n",
        "while a < 10 :\n",
        "  print(a)\n",
        "  a+=1"
      ],
      "metadata": {
        "id": "Ll1WfKhEfIW_",
        "colab": {
          "base_uri": "https://localhost:8080/"
        },
        "outputId": "e20e073d-21fe-4c2a-f971-9f9dc3d804bb"
      },
      "execution_count": null,
      "outputs": [
        {
          "output_type": "stream",
          "name": "stdout",
          "text": [
            "0\n",
            "1\n",
            "2\n",
            "3\n",
            "4\n",
            "5\n",
            "6\n",
            "7\n",
            "8\n",
            "9\n"
          ]
        }
      ]
    },
    {
      "cell_type": "code",
      "source": [
        "lista = [\"A\",\"B\",\"C\"]\n",
        "for key,value in enumerate(lista):\n",
        "  print(f\"{key} -> {value}\")"
      ],
      "metadata": {
        "colab": {
          "base_uri": "https://localhost:8080/"
        },
        "id": "66NlW7Hu3OT3",
        "outputId": "78e72378-bb79-4855-eac6-ec8c69e2bdc7"
      },
      "execution_count": null,
      "outputs": [
        {
          "output_type": "stream",
          "name": "stdout",
          "text": [
            "0 -> A\n",
            "1 -> B\n",
            "2 -> C\n"
          ]
        }
      ]
    },
    {
      "cell_type": "code",
      "source": [
        "a=[1,2,3,4]\n",
        "b=[4,5,6,7]\n",
        "for i,j in zip(a,b):\n",
        "  print(i+j)"
      ],
      "metadata": {
        "colab": {
          "base_uri": "https://localhost:8080/"
        },
        "id": "athjvnFB3noR",
        "outputId": "3ccff962-5253-41a0-a8a1-8b35ae452734"
      },
      "execution_count": null,
      "outputs": [
        {
          "output_type": "stream",
          "name": "stdout",
          "text": [
            "5\n",
            "7\n",
            "9\n",
            "11\n"
          ]
        }
      ]
    },
    {
      "cell_type": "markdown",
      "source": [
        "## Listas + For"
      ],
      "metadata": {
        "id": "dWfi9beifOV4"
      }
    },
    {
      "cell_type": "code",
      "source": [
        "numeros = [i**2 for i in range(40)]\n",
        "print(numeros)\n",
        "pares = [j if j%2==0 else 0 for j in range(10)]\n",
        "print(pares)"
      ],
      "metadata": {
        "colab": {
          "base_uri": "https://localhost:8080/"
        },
        "id": "VMYkV2bZ4NJq",
        "outputId": "7e5772db-6a6b-4d59-8748-3215ea6df633"
      },
      "execution_count": null,
      "outputs": [
        {
          "output_type": "stream",
          "name": "stdout",
          "text": [
            "[0, 1, 4, 9, 16, 25, 36, 49, 64, 81, 100, 121, 144, 169, 196, 225, 256, 289, 324, 361, 400, 441, 484, 529, 576, 625, 676, 729, 784, 841, 900, 961, 1024, 1089, 1156, 1225, 1296, 1369, 1444, 1521]\n",
            "[0, 0, 2, 0, 4, 0, 6, 0, 8, 0]\n"
          ]
        }
      ]
    },
    {
      "cell_type": "markdown",
      "source": [
        "# Prueba"
      ],
      "metadata": {
        "id": "jbVFQWKm57po"
      }
    },
    {
      "cell_type": "code",
      "source": [
        "import pandas as pd\n",
        "import numpy as np\n",
        "\n",
        "ruta = \"/content/Prueba.xlsx\"\n",
        "hojaExcel = pd.read_excel(ruta)\n",
        "\n",
        "print(hojaExcel[\"Correos\"])"
      ],
      "metadata": {
        "colab": {
          "base_uri": "https://localhost:8080/"
        },
        "id": "7n84GBWE6FOF",
        "outputId": "833938e6-b112-4c91-ab3c-0e78daeff274"
      },
      "execution_count": null,
      "outputs": [
        {
          "output_type": "stream",
          "name": "stdout",
          "text": [
            "0       abc@gmail.com\n",
            "1    alva@hotmail.com\n",
            "2       123@gmail.com\n",
            "Name: Correos, dtype: object\n"
          ]
        }
      ]
    },
    {
      "cell_type": "code",
      "source": [
        "lista = []\n",
        "lista_numpy = np.arange(10)\n",
        "print(lista_numpy)\n",
        "lista_numpy = np.ones(5)\n",
        "print(lista_numpy)"
      ],
      "metadata": {
        "colab": {
          "base_uri": "https://localhost:8080/"
        },
        "id": "4Mv1ln1o7kUM",
        "outputId": "87144f83-0294-4960-80c7-caff98a396e5"
      },
      "execution_count": null,
      "outputs": [
        {
          "output_type": "stream",
          "name": "stdout",
          "text": [
            "[0 1 2 3 4 5 6 7 8 9]\n",
            "[1. 1. 1. 1. 1.]\n"
          ]
        }
      ]
    },
    {
      "cell_type": "code",
      "source": [
        "\n",
        "a = np.array(hojaExcel[\"Correos\"])\n",
        "for i in a:\n",
        "  print(i)"
      ],
      "metadata": {
        "colab": {
          "base_uri": "https://localhost:8080/"
        },
        "id": "X0SYgmuR7_QA",
        "outputId": "4278a814-2fdb-49ac-8555-3f3bb61fdd04"
      },
      "execution_count": null,
      "outputs": [
        {
          "output_type": "stream",
          "name": "stdout",
          "text": [
            "abc@gmail.com\n",
            "alva@hotmail.com\n",
            "123@gmail.com\n"
          ]
        }
      ]
    },
    {
      "cell_type": "markdown",
      "source": [
        "## Funciones\n"
      ],
      "metadata": {
        "id": "53RjC8Oh8cbQ"
      }
    },
    {
      "cell_type": "code",
      "source": [
        "def suma(a,b):\n",
        "  return a+b\n",
        "\n",
        "resultado = suma(5,4)\n",
        "print(resultado)"
      ],
      "metadata": {
        "colab": {
          "base_uri": "https://localhost:8080/"
        },
        "id": "WQD1I3uS8fRD",
        "outputId": "1c8bfb34-cbe8-4c88-fa3d-83bff3589034"
      },
      "execution_count": null,
      "outputs": [
        {
          "output_type": "stream",
          "name": "stdout",
          "text": [
            "9\n"
          ]
        }
      ]
    },
    {
      "cell_type": "code",
      "source": [
        "def division(c,d=2, o=\"\"):\n",
        "  return c/d\n",
        "\n",
        "\n",
        "resultado = division(7)\n",
        "print(resultado)"
      ],
      "metadata": {
        "colab": {
          "base_uri": "https://localhost:8080/"
        },
        "id": "BhjY-dFI-gDO",
        "outputId": "f9ccb88a-1ddd-49d4-c1df-9da306bdfa1b"
      },
      "execution_count": null,
      "outputs": [
        {
          "output_type": "stream",
          "name": "stdout",
          "text": [
            "3.5\n"
          ]
        }
      ]
    },
    {
      "cell_type": "code",
      "source": [
        "def division(a,b=2):\n",
        "  print(a/b)\n",
        "\n",
        "division(5)"
      ],
      "metadata": {
        "colab": {
          "base_uri": "https://localhost:8080/"
        },
        "id": "L2Eqb53Y-3uT",
        "outputId": "8599ab27-6cc3-422a-fcf7-be6ec8b02964"
      },
      "execution_count": null,
      "outputs": [
        {
          "output_type": "stream",
          "name": "stdout",
          "text": [
            "2.5\n"
          ]
        }
      ]
    }
  ]
}