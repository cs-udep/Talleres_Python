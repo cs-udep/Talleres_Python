{
  "nbformat": 4,
  "nbformat_minor": 0,
  "metadata": {
    "colab": {
      "provenance": []
    },
    "kernelspec": {
      "name": "python3",
      "display_name": "Python 3"
    },
    "language_info": {
      "name": "python"
    }
  },
  "cells": [
    {
      "cell_type": "markdown",
      "source": [
        "# Creación de las clases."
      ],
      "metadata": {
        "id": "KYKMLtFMcn0E"
      }
    },
    {
      "cell_type": "code",
      "execution_count": null,
      "metadata": {
        "colab": {
          "base_uri": "https://localhost:8080/"
        },
        "id": "hcJGIHpIsCYg",
        "outputId": "7834a1b8-c8fc-408d-a62d-05c7c15114f6"
      },
      "outputs": [
        {
          "output_type": "stream",
          "name": "stdout",
          "text": [
            "Hola mi nombre es Alvaro\n"
          ]
        }
      ],
      "source": [
        "class Persona:\n",
        "  # Atributos\n",
        "  peso = 70\n",
        "  estatura = 1.75\n",
        "  edad = 19\n",
        "\n",
        "  def saludar():\n",
        "    print(\"Hola mi nombre es Alvaro\")\n",
        "\n",
        "Persona.saludar()"
      ]
    },
    {
      "cell_type": "code",
      "source": [
        "class Persona:\n",
        "  def __init__(self, nombre, apellido):\n",
        "    self.nombre =nombre\n",
        "    self.apellido=apellido\n",
        "  def imprimirNombreCompleto(self):\n",
        "    print(f\"{self.nombre} {self.apellido}\")\n",
        "persona = Persona(\"JUAN\", \"APELLIDO\")\n",
        "persona.imprimirNombreCompleto()"
      ],
      "metadata": {
        "colab": {
          "base_uri": "https://localhost:8080/"
        },
        "id": "lAvi1eW5uLbB",
        "outputId": "c4ba3c8a-878c-42fb-d9e7-2622477336ee"
      },
      "execution_count": null,
      "outputs": [
        {
          "output_type": "stream",
          "name": "stdout",
          "text": [
            "JUAN APELLIDO\n"
          ]
        }
      ]
    },
    {
      "cell_type": "markdown",
      "source": [
        "# Ejemplo de que Python solo acepta un solo constructor.\n",
        "No hay polimorfismo en sus constructores."
      ],
      "metadata": {
        "id": "zu43atabcgE9"
      }
    },
    {
      "cell_type": "code",
      "source": [
        "class Persona:\n",
        "  def __init__(self, nombre, apellido):\n",
        "    self.nombre =nombre\n",
        "    self.apellido=apellido\n",
        "  def __init__(self, nombre):\n",
        "    self.nombre = nombre\n",
        "    self.apellido = \"\"\n",
        "  def imprimirNombreCompleto(self):\n",
        "    print(f\"{self.nombre} {self.apellido}\")\n",
        "persona = Persona(\"JUAN\", \"APELLIDO\")\n",
        "persona.imprimirNombreCompleto()\n",
        "\n",
        "persona2 = Persona(\"RAUL\")\n",
        "persona2.imprimirNombreCompleto()"
      ],
      "metadata": {
        "colab": {
          "base_uri": "https://localhost:8080/",
          "height": 250
        },
        "id": "1vdz755BvwOc",
        "outputId": "d4bc0e56-41b3-4544-8485-0a2e2aa6c08e"
      },
      "execution_count": null,
      "outputs": [
        {
          "output_type": "error",
          "ename": "TypeError",
          "evalue": "ignored",
          "traceback": [
            "\u001b[0;31m---------------------------------------------------------------------------\u001b[0m",
            "\u001b[0;31mTypeError\u001b[0m                                 Traceback (most recent call last)",
            "\u001b[0;32m<ipython-input-5-e18fb0529b42>\u001b[0m in \u001b[0;36m<cell line: 10>\u001b[0;34m()\u001b[0m\n\u001b[1;32m      8\u001b[0m   \u001b[0;32mdef\u001b[0m \u001b[0mimprimirNombreCompleto\u001b[0m\u001b[0;34m(\u001b[0m\u001b[0mself\u001b[0m\u001b[0;34m)\u001b[0m\u001b[0;34m:\u001b[0m\u001b[0;34m\u001b[0m\u001b[0;34m\u001b[0m\u001b[0m\n\u001b[1;32m      9\u001b[0m     \u001b[0mprint\u001b[0m\u001b[0;34m(\u001b[0m\u001b[0;34mf\"{self.nombre} {self.apellido}\"\u001b[0m\u001b[0;34m)\u001b[0m\u001b[0;34m\u001b[0m\u001b[0;34m\u001b[0m\u001b[0m\n\u001b[0;32m---> 10\u001b[0;31m \u001b[0mpersona\u001b[0m \u001b[0;34m=\u001b[0m \u001b[0mPersona\u001b[0m\u001b[0;34m(\u001b[0m\u001b[0;34m\"JUAN\"\u001b[0m\u001b[0;34m,\u001b[0m \u001b[0;34m\"APELLIDO\"\u001b[0m\u001b[0;34m)\u001b[0m\u001b[0;34m\u001b[0m\u001b[0;34m\u001b[0m\u001b[0m\n\u001b[0m\u001b[1;32m     11\u001b[0m \u001b[0mpersona\u001b[0m\u001b[0;34m.\u001b[0m\u001b[0mimprimirNombreCompleto\u001b[0m\u001b[0;34m(\u001b[0m\u001b[0;34m)\u001b[0m\u001b[0;34m\u001b[0m\u001b[0;34m\u001b[0m\u001b[0m\n\u001b[1;32m     12\u001b[0m \u001b[0;34m\u001b[0m\u001b[0m\n",
            "\u001b[0;31mTypeError\u001b[0m: Persona.__init__() takes 2 positional arguments but 3 were given"
          ]
        }
      ]
    },
    {
      "cell_type": "code",
      "source": [
        "class Carro:\n",
        "  def __init__(self):\n",
        "    self.nombre =\"\"\n",
        "  @property\n",
        "  def correr(self):\n",
        "    print(\"Estoy corriendo\")\n",
        "\n",
        "  def aumentarVelocidad(self):\n",
        "    print(\"Aumentar Velocidad\")\n",
        "\n",
        "\n",
        "\n",
        "carro = Carro()\n",
        "carro.aumentarVelocidad()\n",
        "\n"
      ],
      "metadata": {
        "colab": {
          "base_uri": "https://localhost:8080/"
        },
        "id": "XgTsJDDewnfa",
        "outputId": "46a5f968-b611-423d-930d-a360105ad835"
      },
      "execution_count": null,
      "outputs": [
        {
          "output_type": "stream",
          "name": "stdout",
          "text": [
            "Aumentar Velocidad\n"
          ]
        }
      ]
    },
    {
      "cell_type": "markdown",
      "source": [
        "# Ejercicio 1: Recorrer Lisa\n",
        "Un objeto que reciba una lista en el contructor y que se cree un método que permita calcular el promedio de las notas de un alumno \"X\", dado por el usuario."
      ],
      "metadata": {
        "id": "Rw8a33yCyGX3"
      }
    },
    {
      "cell_type": "code",
      "source": [
        "CDI = [\n",
        "    {\"alumno\":\"Luis\", \"nota\":12},\n",
        "    {\"alumno\":\"Raul\", \"nota\":15},\n",
        "    {\"alumno\":\"Jose\",\"nota\":16},\n",
        "    {\"alumno\":\"Luis\",\"nota\":14}\n",
        "]\n",
        "class Promedio:\n",
        "  def __init__(self, listaAlumnos):\n",
        "    self.lista = listaAlumnos\n",
        "    self.promedioTotal = 0\n",
        "    self.alumno=\"\"\n",
        "  def promedio(self, nombre):\n",
        "    contador=0\n",
        "    self.alumno = nombre\n",
        "    for i in self.lista:\n",
        "      if i['alumno']==self.alumno:\n",
        "        self.promedioTotal+=i['nota']\n",
        "        contador+=1\n",
        "    self.promedioTotal = self.promedioTotal / contador\n",
        "  def imprimir(self):\n",
        "    print(f\"El promedio del alumno {self.alumno} = {self.promedioTotal}\")\n",
        "\n",
        "promedio = Promedio(CDI)\n",
        "promedio.promedio(\"Luis\")\n",
        "promedio.imprimir()"
      ],
      "metadata": {
        "colab": {
          "base_uri": "https://localhost:8080/"
        },
        "id": "GUXyN6TFyGBH",
        "outputId": "db7be1b0-709c-41db-c14e-6d6c9b8d8c93"
      },
      "execution_count": null,
      "outputs": [
        {
          "output_type": "stream",
          "name": "stdout",
          "text": [
            "El promedio del alumno Luis = 13.0\n"
          ]
        }
      ]
    },
    {
      "cell_type": "markdown",
      "source": [
        "# Ejercicio 2 : Carrito de Compras\n",
        "* Opcion 1: Agregar un Producto a una list\n",
        "* Opcion 2: Eliminar un Producto por el nombre\n",
        "* Opcion 3: Mostrar productos.\n",
        "* Opcion 4: Mostrar un solo producto por id o nombre\n"
      ],
      "metadata": {
        "id": "pJYbwgFi51TD"
      }
    },
    {
      "cell_type": "code",
      "source": [
        "class CarritoCompras:\n",
        "  def __init__(self):\n",
        "    self.listaProductos=[]\n",
        "    self.precioTotal = 0\n",
        "    self.subtotal=0\n",
        "    self.comision=0.025\n",
        "\n",
        "  def agregarProducto(self, producto):\n",
        "    self.listaProductos.append(producto)\n",
        "\n",
        "  def eliminarProducto(self, idProducto):\n",
        "    for i in self.listaProductos:\n",
        "      if i['id']==idProducto:\n",
        "        self.listaProductos.remove(i)\n",
        "\n",
        "  def imprimirProductos(self):\n",
        "    for llave, valor in enumerate(self.listaProductos):\n",
        "      print(f\"=============== Producto{llave} ===============\")\n",
        "      print(f\"Nombre : {valor['nombre']}\")\n",
        "      print(f\"Cantidad : {valor['cantidad']}\")\n",
        "      print(f\"PrecioUnitario : {valor['precioUnitario']}\")\n",
        "      print(f\"Precio Total: {valor['precioUnitario']*valor['cantidad']}\")\n",
        "\n",
        "carrito = CarritoCompras()\n",
        "continua = \"\"\n",
        "while True or continua==\"Y\":\n",
        "  print(\"Bienvenidos a la tienda virtual\")\n",
        "  print(\"(1) Agregar Productos\")\n",
        "  print(\"(2) Eliminar Productos\")\n",
        "  print(\"(3) Mostrar por consola\")\n",
        "  operacion = int(input(\"¿Que operación quiere realizar?\"))\n",
        "\n",
        "  if operacion == 1:\n",
        "    nombreProducto = input(\"Nombre del Producto : \")\n",
        "    precioUnitario = float(input(\"Precio Unitario del Producto : \"))\n",
        "\n",
        "    cantidad = int(input(\"Cuantos productos son ? : \"))\n",
        "    precioTotal = cantidad*precioUnitario\n",
        "    producto={\"nombre\":nombreProducto, \"precioTotal\":precioTotal, \"precioUnitario\":precioUnitario, \"cantidad\":cantidad}\n",
        "    carrito.agregarProducto(producto)\n",
        "  elif operacion==2:\n",
        "    nombre=input(\"Nombre del Producto\")\n",
        "    carrito.eliminarProducto(nombre)\n",
        "  elif operacion==3:\n",
        "    carrito.imprimirProductos()\n",
        "  continua = input(\"Desea realizar otra operación? (Y/n)\")\n",
        "  if continua != \"Y\":\n",
        "    break\n",
        "\n"
      ],
      "metadata": {
        "colab": {
          "base_uri": "https://localhost:8080/"
        },
        "id": "U8sOGGVm7a_H",
        "outputId": "2c8a02d8-3d20-4d90-e258-b8d23ea9e24f"
      },
      "execution_count": 1,
      "outputs": [
        {
          "name": "stdout",
          "output_type": "stream",
          "text": [
            "Bienvenidos a la tienda virtual\n",
            "(1) Agregar Productos\n",
            "(2) Eliminar Productos\n",
            "(3) Mostrar por consola\n",
            "¿Que operación quiere realizar?1\n",
            "Nombre del Producto : Pastilla\n",
            "Precio Unitario del Producto : 10\n",
            "Cuantos productos son ? : 2\n",
            "Desea realizar otra operación? (Y/n)N\n"
          ]
        }
      ]
    },
    {
      "cell_type": "markdown",
      "source": [
        "#MISCELÁNEA : MÁS EJEMPLOS DE POO con Python"
      ],
      "metadata": {
        "id": "TEBwOo0pcuTt"
      }
    },
    {
      "cell_type": "markdown",
      "source": [
        "## Clase Vector\n",
        "Permite crear un solo vector"
      ],
      "metadata": {
        "id": "LmJAKfTbc8Ec"
      }
    },
    {
      "cell_type": "code",
      "source": [
        "import math\n",
        "\n",
        "class Vector:\n",
        "\n",
        "  def __init__(self, lista):\n",
        "    self.lista = lista\n",
        "\n",
        "  def __str__(self):\n",
        "    return f\"{self.lista}\"\n",
        "\n",
        "  def dot(self, vector):\n",
        "    arr = []\n",
        "    for i in range(len(self.lista)):\n",
        "      resultado = self.lista[i] * vector.lista[i]\n",
        "      arr.append(resultado)\n",
        "    return sum(arr)\n",
        "\n",
        "  def add(self, vector):\n",
        "    arr = []\n",
        "    for i in range(len(self.lista)):\n",
        "      resultado = self.lista[i] + vector.lista[i]\n",
        "      arr.append(resultado)\n",
        "    return Vector(arr)\n",
        "\n",
        "  def substract(self, vector):\n",
        "    arr = []\n",
        "    for i in range(len(self.lista)):\n",
        "      resultado = self.lista[i] - vector.lista[i]\n",
        "      arr.append(resultado)\n",
        "    return Vector(arr)\n",
        "\n",
        "  def norm(self):\n",
        "    result = 0\n",
        "    for i in self.lista:\n",
        "      result += (i**2)\n",
        "    return math.sqrt(result)\n",
        "\n",
        "  def equals(self, vector):\n",
        "    return self.lista == vector.lista\n",
        "\n",
        "a = Vector([1,2,3])\n",
        "b = Vector([2,6,3])\n",
        "f = Vector([4,5,6])\n",
        "c = a.add(b)\n",
        "g = b.substract(a)\n",
        "h = b.dot(f)\n",
        "\n",
        "print(c)\n",
        "print(g)\n",
        "print(h)\n",
        "print(c.equals(Vector([3,8,6])))"
      ],
      "metadata": {
        "colab": {
          "base_uri": "https://localhost:8080/"
        },
        "id": "EInRQpZyc0N_",
        "outputId": "bf80951a-e0c8-4c17-b252-9d2f4050fe38"
      },
      "execution_count": 2,
      "outputs": [
        {
          "output_type": "stream",
          "name": "stdout",
          "text": [
            "[3, 8, 6]\n",
            "[1, 4, 0]\n",
            "56\n",
            "True\n"
          ]
        }
      ]
    },
    {
      "cell_type": "markdown",
      "source": [
        "## Operaciones con vectores\n",
        "Operaciones básicas con vectores.\n"
      ],
      "metadata": {
        "id": "HZg-mF91dqAn"
      }
    },
    {
      "cell_type": "code",
      "source": [
        "import math\n",
        "\n",
        "class Vector2:\n",
        "    def __init__(self, array = []):\n",
        "        self.array = array\n",
        "        self.len = len(array)\n",
        "    ## Método toString pueden ver más info en : https://realpython.com/lessons/how-and-when-use-str/\n",
        "    def __str__(self):\n",
        "        return ''.join(str(tuple(self.array))).replace(' ','')\n",
        "    ## Suma de dos vectores\n",
        "    def add(self, arr):\n",
        "        return Vector([ a + b for a,b in zip(self.array, arr.array)])\n",
        "    ## Resta de dos vectores\n",
        "    def subtract(self,arr):\n",
        "        return Vector([a-b for a,b in zip(self.array, arr.array)])\n",
        "    ## Multiplicación Punto de 2 vectores\n",
        "    def dot(self, arr):\n",
        "        return sum([a*b for a, b in zip(self.array, arr.array)])\n",
        "    ## Multiplicación de dos vectores\n",
        "    def norm(self):\n",
        "        return math.sqrt(sum([a**2 for a in self.array]))\n",
        "\n",
        "    def equals(self, vector):\n",
        "        return self.array == vector.array\n",
        "\n",
        "a = Vector2([1,2,3])\n",
        "b = Vector2([2,4,5])\n",
        "print(a.add(b))\n",
        "print(b)"
      ],
      "metadata": {
        "colab": {
          "base_uri": "https://localhost:8080/"
        },
        "id": "rIjVmBsOdutU",
        "outputId": "ac1ea9fc-9833-4495-ff14-a2cc394fc57c"
      },
      "execution_count": 3,
      "outputs": [
        {
          "output_type": "stream",
          "name": "stdout",
          "text": [
            "[3, 6, 8]\n",
            "(2,4,5)\n"
          ]
        }
      ]
    },
    {
      "cell_type": "markdown",
      "source": [
        "# Numpy Introducción"
      ],
      "metadata": {
        "id": "8K8YSYdlcsFM"
      }
    },
    {
      "cell_type": "code",
      "source": [
        "import numpy as np\n",
        "\n",
        "print(np.zeros(5))\n",
        "print(np.ones(7))\n",
        "print(np.random)\n",
        "print(np.arange(15))"
      ],
      "metadata": {
        "colab": {
          "base_uri": "https://localhost:8080/"
        },
        "id": "4ZIja6DBCQOp",
        "outputId": "bcdb3244-fd6e-412e-fece-0d9761d6b3ea"
      },
      "execution_count": null,
      "outputs": [
        {
          "output_type": "stream",
          "name": "stdout",
          "text": [
            "[0. 0. 0. 0. 0.]\n",
            "[1. 1. 1. 1. 1. 1. 1.]\n",
            "<module 'numpy.random' from '/usr/local/lib/python3.10/dist-packages/numpy/random/__init__.py'>\n",
            "[ 0  1  2  3  4  5  6  7  8  9 10 11 12 13 14]\n"
          ]
        }
      ]
    },
    {
      "cell_type": "code",
      "source": [
        "lista1=np.arange(15)\n",
        "lista2=np.ones(7)\n",
        "print(np.sum(lista2))\n",
        "print(np.sum(lista1))\n",
        "print(np.amax(lista1))\n",
        "print(np.amin(lista1))\n",
        "print(lista1.T)\n"
      ],
      "metadata": {
        "colab": {
          "base_uri": "https://localhost:8080/"
        },
        "id": "YGNkGfclC_te",
        "outputId": "1397be3f-a30b-4e36-af69-9e885c87f042"
      },
      "execution_count": null,
      "outputs": [
        {
          "output_type": "stream",
          "name": "stdout",
          "text": [
            "7.0\n",
            "105\n",
            "14\n",
            "0\n",
            "[ 0  1  2  3  4  5  6  7  8  9 10 11 12 13 14]\n"
          ]
        }
      ]
    },
    {
      "cell_type": "code",
      "source": [],
      "metadata": {
        "id": "KBuxZjrADaY2"
      },
      "execution_count": null,
      "outputs": []
    }
  ]
}