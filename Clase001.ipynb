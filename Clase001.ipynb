{
  "nbformat": 4,
  "nbformat_minor": 0,
  "metadata": {
    "colab": {
      "provenance": [],
      "toc_visible": true
    },
    "kernelspec": {
      "name": "python3",
      "display_name": "Python 3"
    },
    "language_info": {
      "name": "python"
    }
  },
  "cells": [
    {
      "cell_type": "markdown",
      "source": [
        "# Declaración de variables"
      ],
      "metadata": {
        "id": "7JRr4kjzTUDz"
      }
    },
    {
      "cell_type": "code",
      "source": [
        "# Esto es un comentario\n",
        "\"\"\"\n",
        "Un comentario de varias\n",
        "\"\"\""
      ],
      "metadata": {
        "id": "pRS6Bb3gTdAh",
        "colab": {
          "base_uri": "https://localhost:8080/",
          "height": 35
        },
        "outputId": "9ad5c220-d99f-4ca8-9a62-78c46f132c7e"
      },
      "execution_count": null,
      "outputs": [
        {
          "output_type": "execute_result",
          "data": {
            "text/plain": [
              "'\\nUn comentario de varias\\n'"
            ],
            "application/vnd.google.colaboratory.intrinsic+json": {
              "type": "string"
            }
          },
          "metadata": {},
          "execution_count": 1
        }
      ]
    },
    {
      "cell_type": "code",
      "source": [
        "nombre =\"Alvaro\"\n",
        "numero=15\n",
        "numero_decimal = 15.5\n",
        "saludo=f\"Bienvenido {nombre}\"\n",
        "print(saludo)"
      ],
      "metadata": {
        "colab": {
          "base_uri": "https://localhost:8080/"
        },
        "id": "xI9RrS-GomCr",
        "outputId": "460d8f22-c36e-46c0-9c5b-80d5a4f721f8"
      },
      "execution_count": null,
      "outputs": [
        {
          "output_type": "stream",
          "name": "stdout",
          "text": [
            "Bienvenido Alvaro\n"
          ]
        }
      ]
    },
    {
      "cell_type": "code",
      "source": [
        "nombre=input(\"Ingresa tu nombre\")\n",
        "saludo = f\"Bienvenido a CS {nombre}\"\n",
        "print(saludo)"
      ],
      "metadata": {
        "colab": {
          "base_uri": "https://localhost:8080/"
        },
        "id": "yGLJUMDdp0-O",
        "outputId": "776b92cf-5b21-4d8f-c33b-38b7e9f4a720"
      },
      "execution_count": null,
      "outputs": [
        {
          "output_type": "stream",
          "name": "stdout",
          "text": [
            "Ingresa tu nombreJuan\n",
            "Bienvenido a CS Juan\n"
          ]
        }
      ]
    },
    {
      "cell_type": "code",
      "source": [
        "primerNombre = \"Roberto\"\n",
        "segundoNombre= \"Juan\"\n",
        "print(primerNombre+\" \"+segundoNombre)"
      ],
      "metadata": {
        "colab": {
          "base_uri": "https://localhost:8080/"
        },
        "id": "pSZG6jhaqaPz",
        "outputId": "2cf76949-e9fb-4b5a-c571-fc97dde69dcf"
      },
      "execution_count": null,
      "outputs": [
        {
          "output_type": "stream",
          "name": "stdout",
          "text": [
            "Roberto Juan\n"
          ]
        }
      ]
    },
    {
      "cell_type": "markdown",
      "source": [
        "# Operaciones"
      ],
      "metadata": {
        "id": "M7kYd9GeTX47"
      }
    },
    {
      "cell_type": "code",
      "source": [
        "nombre = \"Alvaro\"\n",
        "print(nombre*4)"
      ],
      "metadata": {
        "id": "olPe0DHATdOK",
        "colab": {
          "base_uri": "https://localhost:8080/"
        },
        "outputId": "c2d8b775-6f3d-4b86-8c4c-99e4547c84fb"
      },
      "execution_count": null,
      "outputs": [
        {
          "output_type": "stream",
          "name": "stdout",
          "text": [
            "AlvaroAlvaroAlvaroAlvaro\n"
          ]
        }
      ]
    },
    {
      "cell_type": "code",
      "source": [
        "\"\"\"\n",
        "*\n",
        "**\n",
        "***\n",
        "\"\"\""
      ],
      "metadata": {
        "colab": {
          "base_uri": "https://localhost:8080/",
          "height": 35
        },
        "id": "d1xYkVXiq-Go",
        "outputId": "f339f4a6-a3c3-45c7-fbb9-071bb3761540"
      },
      "execution_count": null,
      "outputs": [
        {
          "output_type": "execute_result",
          "data": {
            "text/plain": [
              "'\\n*\\n**\\n***\\n'"
            ],
            "application/vnd.google.colaboratory.intrinsic+json": {
              "type": "string"
            }
          },
          "metadata": {},
          "execution_count": 11
        }
      ]
    },
    {
      "cell_type": "code",
      "source": [
        "print(\"*\"*3)"
      ],
      "metadata": {
        "colab": {
          "base_uri": "https://localhost:8080/"
        },
        "id": "AnLcpYyDrFCh",
        "outputId": "2d024ce1-d5a1-430a-a02c-571640c76e00"
      },
      "execution_count": null,
      "outputs": [
        {
          "output_type": "stream",
          "name": "stdout",
          "text": [
            "***\n"
          ]
        }
      ]
    },
    {
      "cell_type": "code",
      "source": [
        "edad = \"10\"\n",
        "edadNumero = int(edad)\n",
        "edadFloat = float(edad)\n",
        "print(edadNumero)\n",
        "print(edadFloat)"
      ],
      "metadata": {
        "colab": {
          "base_uri": "https://localhost:8080/"
        },
        "id": "AcxxfxJXrJYE",
        "outputId": "3992b9fa-8f43-4e00-88ae-2996fcbb0124"
      },
      "execution_count": null,
      "outputs": [
        {
          "output_type": "stream",
          "name": "stdout",
          "text": [
            "10\n",
            "10.0\n"
          ]
        }
      ]
    },
    {
      "cell_type": "code",
      "source": [
        "edadUsuario = int(input(\"Ingresa tu edad -> \"))\n",
        "# STR + INT\n",
        "sumaEdad = edadUsuario + 10\n",
        "print(sumaEdad)"
      ],
      "metadata": {
        "colab": {
          "base_uri": "https://localhost:8080/"
        },
        "id": "HDb1fiDOrpDW",
        "outputId": "72ee36c9-a80a-45ed-ba53-fbf7cb6eb4ed"
      },
      "execution_count": null,
      "outputs": [
        {
          "output_type": "stream",
          "name": "stdout",
          "text": [
            "Ingresa tu edad -> 20\n",
            "30\n"
          ]
        }
      ]
    },
    {
      "cell_type": "code",
      "source": [
        "edad = str(50)\n",
        "print(type(edad))"
      ],
      "metadata": {
        "colab": {
          "base_uri": "https://localhost:8080/"
        },
        "id": "x0jC3BvisXol",
        "outputId": "e98c91ed-58fc-4f5e-aaf1-3b08d015fc00"
      },
      "execution_count": null,
      "outputs": [
        {
          "output_type": "stream",
          "name": "stdout",
          "text": [
            "<class 'str'>\n"
          ]
        }
      ]
    },
    {
      "cell_type": "markdown",
      "source": [
        "# Cadenas de Texto"
      ],
      "metadata": {
        "id": "n32xFL-4TyY0"
      }
    },
    {
      "cell_type": "code",
      "source": [
        "email = \"Alum.Udep.edu.PE\"\n",
        "emailLower = email.lower()\n",
        "\n",
        "print(emailLower)"
      ],
      "metadata": {
        "id": "icCiigauT1HL",
        "colab": {
          "base_uri": "https://localhost:8080/"
        },
        "outputId": "a29c100b-f0cc-455f-bfa0-3b42874e9ecf"
      },
      "execution_count": null,
      "outputs": [
        {
          "output_type": "stream",
          "name": "stdout",
          "text": [
            "alum.udep.edu.pe\n"
          ]
        }
      ]
    },
    {
      "cell_type": "code",
      "source": [
        "emailUpper = email.upper()\n",
        "print(emailUpper)"
      ],
      "metadata": {
        "colab": {
          "base_uri": "https://localhost:8080/"
        },
        "id": "f9sjl89Xs7ul",
        "outputId": "2787f029-e035-4098-c382-36bd0b8d79d8"
      },
      "execution_count": null,
      "outputs": [
        {
          "output_type": "stream",
          "name": "stdout",
          "text": [
            "ALUM.UDEP.EDU.PE\n"
          ]
        }
      ]
    },
    {
      "cell_type": "code",
      "source": [
        "email = \"hotmail.com   \"\n",
        "print(email)\n",
        "print(email.strip())\n"
      ],
      "metadata": {
        "colab": {
          "base_uri": "https://localhost:8080/"
        },
        "id": "6Apl3DaDtBh8",
        "outputId": "aef61b0f-9694-4601-ac6d-51827a985b47"
      },
      "execution_count": null,
      "outputs": [
        {
          "output_type": "stream",
          "name": "stdout",
          "text": [
            "hotmail.com   \n",
            "hotmail.com\n"
          ]
        }
      ]
    },
    {
      "cell_type": "code",
      "source": [
        "if email.rstrip() == \"hotmail.com\":\n",
        "  print(\"personal\")\n",
        "else:\n",
        "  print(\"alumno\")"
      ],
      "metadata": {
        "colab": {
          "base_uri": "https://localhost:8080/"
        },
        "id": "_YsSkyMutazX",
        "outputId": "6973ce32-c25d-4b0b-cb0d-56350ec2929f"
      },
      "execution_count": null,
      "outputs": [
        {
          "output_type": "stream",
          "name": "stdout",
          "text": [
            "personal\n"
          ]
        }
      ]
    },
    {
      "cell_type": "code",
      "source": [
        "edad = input(\"Cual es tu edad ? \\n\")\n",
        "if int(edad) < 18:\n",
        "  print(\"Eres menor de edad\")\n",
        "elif int(edad)>= 18 and int(edad)<30 :\n",
        "  print(\"Eres adulto\")\n",
        "else:\n",
        "  print(\"Eres un anciano\")"
      ],
      "metadata": {
        "colab": {
          "base_uri": "https://localhost:8080/"
        },
        "id": "_4OnIGsVt3Jb",
        "outputId": "54a21010-44f0-46e6-991d-0ed6843473fa"
      },
      "execution_count": null,
      "outputs": [
        {
          "output_type": "stream",
          "name": "stdout",
          "text": [
            "Cual es tu edad ? \n",
            "40\n",
            "Eres un anciano\n"
          ]
        }
      ]
    },
    {
      "cell_type": "code",
      "source": [
        "carro = 1000\n",
        "moto = 2000\n",
        "avion = 10000\n",
        "sueldo = 1500\n",
        "if sueldo > carro:\n",
        "  print(\"Puedes comprar un carro \")\n",
        "elif sueldo > moto:\n",
        "  print(\"Puedes comprar una moto\")\n",
        "else:\n",
        "  print(\"No puedes comprar nada\")"
      ],
      "metadata": {
        "colab": {
          "base_uri": "https://localhost:8080/"
        },
        "id": "_RrDNw7qvdxI",
        "outputId": "1dd59c70-6944-417d-d604-c3b172e43b79"
      },
      "execution_count": null,
      "outputs": [
        {
          "output_type": "stream",
          "name": "stdout",
          "text": [
            "Puedes comprar un carro \n"
          ]
        }
      ]
    },
    {
      "cell_type": "code",
      "source": [
        "correoAlum = \"Alum.udep.edu.pe\"\n",
        "separacion = correoAlum.split(\".\")\n",
        "print(separacion[0])\n",
        "correoGmail =\"al@gmail.com\"\n",
        "separar = correoGmail.split(\"@\")\n",
        "print(correoGmail)\n",
        "print(separar)\n",
        "print(separar[1])"
      ],
      "metadata": {
        "colab": {
          "base_uri": "https://localhost:8080/"
        },
        "id": "HXCk4gUYwv36",
        "outputId": "8b74b634-1c1c-440d-f53a-3f1cee662601"
      },
      "execution_count": null,
      "outputs": [
        {
          "output_type": "stream",
          "name": "stdout",
          "text": [
            "Alum\n",
            "al@gmail.com\n",
            "['al', 'gmail.com']\n",
            "gmail.com\n"
          ]
        }
      ]
    },
    {
      "cell_type": "markdown",
      "source": [
        "## Ejercicio 1\n",
        "Hacer un \"login\" registro de una aplicación, pedirle al cliente su correo y contraseña.\n",
        "Correo valido\n",
        "- Termine en .com\n",
        "- gmail o hotmail\n",
        "- Sino correo inválido\n",
        "Contraseña : \"Computer2023\""
      ],
      "metadata": {
        "id": "XMlatRqFwLDk"
      }
    },
    {
      "cell_type": "code",
      "source": [
        "email = input(\"Ingresa tu email \\n\")"
      ],
      "metadata": {
        "colab": {
          "base_uri": "https://localhost:8080/"
        },
        "id": "xU84puNKwDmM",
        "outputId": "4341a644-ea1a-430c-bc3e-aca9218280f3"
      },
      "execution_count": null,
      "outputs": [
        {
          "name": "stdout",
          "output_type": "stream",
          "text": [
            "Ingresa tu email \n",
            "alv@gmail.com\n"
          ]
        }
      ]
    },
    {
      "cell_type": "markdown",
      "source": [
        "### Solución\n"
      ],
      "metadata": {
        "id": "mFLhfqnWiUR5"
      }
    },
    {
      "cell_type": "code",
      "source": [
        "#LOGIN\n",
        "\n",
        "#BACKEND: SERVER SIDE\n",
        "\n",
        "#NOMBRE\n",
        "name=input(\"Ingresa el nombre: \")\n",
        "#CORREO\n",
        "email = input(\"Ingrese el correo: \")\n",
        "#CONTRASEÑA\n",
        "password=input(\"Ingresa la contraseña: \")\n",
        "#EDAD\n",
        "age=int(input(\"Ingresa la edad: \"))\n",
        "\n",
        "contraCorrecta = \"Computer2023\"\n",
        "\n",
        "if password == contraCorrecta:\n",
        "  print(\"Contraseña correcta\")\n",
        "else:\n",
        "  print(\"Contraseña incorrecta\")\n",
        "\n",
        "extension = email.split(\"@\")[1]\n",
        "\n",
        "if extension == \"gmail.com\" or extension == \"hotmail.com\" or extension == \"alum.udep.edu.pe\":\n",
        "  print(\"Email es correcto\")\n",
        "else:\n",
        "  print(\"Email incorrecto\")\n",
        "\n",
        "if age>18:\n",
        "  print(\"Usted es mayor de edad\")\n",
        "else:\n",
        "  print(\"Usted es menor de edad\")\n",
        "\n",
        "print(name)\n",
        "print(password)"
      ],
      "metadata": {
        "colab": {
          "base_uri": "https://localhost:8080/"
        },
        "id": "m8rwJpKRzI59",
        "outputId": "f07f6055-a0fc-47bd-c904-7386674a4074"
      },
      "execution_count": null,
      "outputs": [
        {
          "output_type": "stream",
          "name": "stdout",
          "text": [
            "Ingresa el nombre: Alvaro\n",
            "Ingrese el correo: alv@alum.udep.edu.pe\n",
            "Ingresa la contraseña: Computer2023\n",
            "Ingresa la edad: 20\n",
            "Contraseña correcta\n",
            "Email es correcto\n",
            "Usted es mayor de edad\n",
            "Alvaro\n",
            "Computer2023\n"
          ]
        }
      ]
    },
    {
      "cell_type": "code",
      "source": [
        "edad = 15\n",
        "validacion = \"Eres mayor de edad\" if edad > 18 else \"Eres menor de edad\"\n",
        "print(validacion)"
      ],
      "metadata": {
        "colab": {
          "base_uri": "https://localhost:8080/"
        },
        "id": "RWDNkKWx6gyE",
        "outputId": "bbe2e5ba-dc38-4c84-da4c-052befe3ec88"
      },
      "execution_count": null,
      "outputs": [
        {
          "output_type": "stream",
          "name": "stdout",
          "text": [
            "Eres menor de edad\n"
          ]
        }
      ]
    },
    {
      "cell_type": "code",
      "source": [
        "if True:\n",
        "  print(\"Hola\")"
      ],
      "metadata": {
        "colab": {
          "base_uri": "https://localhost:8080/"
        },
        "id": "NHFENAA48Z4l",
        "outputId": "4ac3c2da-68ec-4560-bba3-5f1579533814"
      },
      "execution_count": null,
      "outputs": [
        {
          "output_type": "stream",
          "name": "stdout",
          "text": [
            "Hola\n"
          ]
        }
      ]
    },
    {
      "cell_type": "code",
      "source": [
        "print(\"Bienvenido a CS\",name)"
      ],
      "metadata": {
        "colab": {
          "base_uri": "https://localhost:8080/"
        },
        "id": "JAK7wnF93IMM",
        "outputId": "ecfe60bc-08d6-4f64-a49b-f896fcf212d5"
      },
      "execution_count": null,
      "outputs": [
        {
          "output_type": "stream",
          "name": "stdout",
          "text": [
            "Bienvenido a CS William\n"
          ]
        }
      ]
    }
  ]
}